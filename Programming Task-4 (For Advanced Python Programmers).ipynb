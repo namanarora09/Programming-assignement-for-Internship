{
 "cells": [
  {
   "cell_type": "markdown",
   "id": "c9c094f9",
   "metadata": {},
   "source": [
    "## 1. Single Number"
   ]
  },
  {
   "cell_type": "code",
   "execution_count": 1,
   "id": "cc4fec0b",
   "metadata": {},
   "outputs": [
    {
     "name": "stdout",
     "output_type": "stream",
     "text": [
      "2 2 1\n",
      "1\n"
     ]
    }
   ],
   "source": [
    "nums=[int(i) for i in input().split()]\n",
    "n=len(nums)\n",
    "r=nums[0]\n",
    "for i in range(1,n):\n",
    "    r=r^nums[i]\n",
    "print(r)"
   ]
  },
  {
   "cell_type": "markdown",
   "id": "fc144842",
   "metadata": {},
   "source": [
    "## 2. Sort Integers by The Number of 1 Bits"
   ]
  },
  {
   "cell_type": "code",
   "execution_count": 3,
   "id": "8a504890",
   "metadata": {},
   "outputs": [
    {
     "name": "stdout",
     "output_type": "stream",
     "text": [
      "0 1 2 3 4 5 6 7 8\n",
      "[0, 1, 2, 4, 8, 3, 5, 6, 7]\n"
     ]
    }
   ],
   "source": [
    "nums=[int(i) for i in input().split()]\n",
    "nums=[(bin(i).count('1'),i) for i in nums]\n",
    "nums.sort()\n",
    "print([i[1] for i in nums])"
   ]
  },
  {
   "cell_type": "markdown",
   "id": "6a171adb",
   "metadata": {},
   "source": [
    "## 3. Single Number III"
   ]
  },
  {
   "cell_type": "code",
   "execution_count": 5,
   "id": "11d47e04",
   "metadata": {},
   "outputs": [
    {
     "name": "stdout",
     "output_type": "stream",
     "text": [
      "1 2 1 3 2 5\n",
      "[3, 5]\n"
     ]
    }
   ],
   "source": [
    "nums=[int(i) for i in input().split()]\n",
    "l=[]\n",
    "n=list(nums)\n",
    "for i in nums:\n",
    "    if i in n:\n",
    "        n.remove(i)\n",
    "        if i in n:\n",
    "            n.remove(i)\n",
    "        else:\n",
    "            l.append(i)\n",
    "print(l)"
   ]
  },
  {
   "cell_type": "markdown",
   "id": "0f52ccf4",
   "metadata": {},
   "source": [
    "## 4. Subsets"
   ]
  },
  {
   "cell_type": "code",
   "execution_count": 10,
   "id": "f629dfa2",
   "metadata": {},
   "outputs": [
    {
     "name": "stdout",
     "output_type": "stream",
     "text": [
      "1 2 3\n",
      "[[], [1], [2], [3], [1, 2], [1, 3], [2, 3], [1, 2, 3]]\n"
     ]
    }
   ],
   "source": [
    "nums=[int(i) for i in input().split()]\n",
    "res=[]\n",
    "def backtrack(idx,path):\n",
    "    if(len(path))==k:\n",
    "        res.append(list(path))\n",
    "        return\n",
    "    for i in range(idx,len(nums)):\n",
    "        backtrack(i+1,path+[nums[i]])\n",
    "for k in range(len(nums)+1):\n",
    "    backtrack(0,[])\n",
    "print(res)"
   ]
  },
  {
   "cell_type": "code",
   "execution_count": null,
   "id": "c3dfc492",
   "metadata": {},
   "outputs": [],
   "source": []
  }
 ],
 "metadata": {
  "kernelspec": {
   "display_name": "Python 3",
   "language": "python",
   "name": "python3"
  },
  "language_info": {
   "codemirror_mode": {
    "name": "ipython",
    "version": 3
   },
   "file_extension": ".py",
   "mimetype": "text/x-python",
   "name": "python",
   "nbconvert_exporter": "python",
   "pygments_lexer": "ipython3",
   "version": "3.8.8"
  }
 },
 "nbformat": 4,
 "nbformat_minor": 5
}
