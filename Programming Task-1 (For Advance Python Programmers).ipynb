{
 "cells": [
  {
   "cell_type": "markdown",
   "id": "dd2f74de",
   "metadata": {},
   "source": [
    "## 1. Runnint Sum of 1d Array"
   ]
  },
  {
   "cell_type": "code",
   "execution_count": 8,
   "id": "e60ce1d3",
   "metadata": {},
   "outputs": [
    {
     "name": "stdout",
     "output_type": "stream",
     "text": [
      "[1, 3, 6, 10]\n"
     ]
    }
   ],
   "source": [
    "def runningSum(nums):\n",
    "    l=[]\n",
    "    currentSum=0;\n",
    "    for i in nums:\n",
    "        currentSum+=i\n",
    "        l.append(currentSum)\n",
    "    return l\n",
    "print(runningSum([1,2,3,4]))"
   ]
  },
  {
   "cell_type": "markdown",
   "id": "9e107aba",
   "metadata": {},
   "source": [
    "## 2. Shuffle the Array"
   ]
  },
  {
   "cell_type": "code",
   "execution_count": 12,
   "id": "de88db43",
   "metadata": {},
   "outputs": [
    {
     "name": "stdout",
     "output_type": "stream",
     "text": [
      "[1, 4, 2, 3, 3, 2, 4, 1]\n"
     ]
    }
   ],
   "source": [
    "def shuffleArray(nums,n):\n",
    "    l=[]\n",
    "    for i in range(n):\n",
    "        l.append(nums[i]);\n",
    "        l.append(nums[i+n])\n",
    "    return l\n",
    "print(shuffleArray([1,2,3,4,4,3,2,1],4))"
   ]
  },
  {
   "cell_type": "markdown",
   "id": "cfe1300b",
   "metadata": {},
   "source": [
    "## 3. Kids With the Greatest Number of Candies"
   ]
  },
  {
   "cell_type": "code",
   "execution_count": 20,
   "id": "90e04b6a",
   "metadata": {},
   "outputs": [
    {
     "name": "stdout",
     "output_type": "stream",
     "text": [
      "[True, True, True, False, True]\n"
     ]
    }
   ],
   "source": [
    "def kidsWithGreatestCandies(candies,extra):\n",
    "    l=[]\n",
    "    currMax=max(candies)\n",
    "    for i in candies:\n",
    "        if i+extra>=currMax:\n",
    "            l.append(True)\n",
    "        else:\n",
    "            l.append(False)\n",
    "    return l\n",
    "print(kidsWithGreatestCandies([2,3,5,1,2],3))"
   ]
  },
  {
   "cell_type": "code",
   "execution_count": null,
   "id": "f8129731",
   "metadata": {},
   "outputs": [],
   "source": []
  }
 ],
 "metadata": {
  "kernelspec": {
   "display_name": "Python 3",
   "language": "python",
   "name": "python3"
  },
  "language_info": {
   "codemirror_mode": {
    "name": "ipython",
    "version": 3
   },
   "file_extension": ".py",
   "mimetype": "text/x-python",
   "name": "python",
   "nbconvert_exporter": "python",
   "pygments_lexer": "ipython3",
   "version": "3.8.8"
  }
 },
 "nbformat": 4,
 "nbformat_minor": 5
}
