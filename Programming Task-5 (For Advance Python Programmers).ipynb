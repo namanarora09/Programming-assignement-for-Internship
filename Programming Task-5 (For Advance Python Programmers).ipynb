{
 "cells": [
  {
   "cell_type": "markdown",
   "id": "248997bc",
   "metadata": {},
   "source": [
    "## 1. Subsets"
   ]
  },
  {
   "cell_type": "code",
   "execution_count": 1,
   "id": "853f80c5",
   "metadata": {},
   "outputs": [
    {
     "name": "stdout",
     "output_type": "stream",
     "text": [
      "1 2 3\n",
      "[[], [1], [2], [3], [1, 2], [1, 3], [2, 3], [1, 2, 3]]\n"
     ]
    }
   ],
   "source": [
    "nums=[int(i) for i in input().split()]\n",
    "res=[]\n",
    "def backtrack(idx,path):\n",
    "    if(len(path))==k:\n",
    "        res.append(list(path))\n",
    "        return\n",
    "    for i in range(idx,len(nums)):\n",
    "        backtrack(i+1,path+[nums[i]])\n",
    "for k in range(len(nums)+1):\n",
    "    backtrack(0,[])\n",
    "print(res)"
   ]
  },
  {
   "cell_type": "markdown",
   "id": "b5e4a7b5",
   "metadata": {},
   "source": [
    "## 2. Hamming Distance"
   ]
  },
  {
   "cell_type": "code",
   "execution_count": 3,
   "id": "b93c3ec1",
   "metadata": {},
   "outputs": [
    {
     "name": "stdout",
     "output_type": "stream",
     "text": [
      "1\n",
      "4\n",
      "2\n"
     ]
    }
   ],
   "source": [
    "x=int(input())\n",
    "y=int(input())\n",
    "a= bin(x).replace(\"0b\", \"\")\n",
    "b = bin(y).replace(\"0b\", \"\")\n",
    "\n",
    "while len(a) < len(b):\n",
    "    a = \"0\" + a\n",
    "        \n",
    "while len(b) < len(a):\n",
    "    b = \"0\" + b\n",
    "        \n",
    "s = 0\n",
    "for i in range(len(a)):\n",
    "    if a[i] != b[i]:\n",
    "        s += 1\n",
    "print(s)"
   ]
  },
  {
   "cell_type": "markdown",
   "id": "4ef09d88",
   "metadata": {},
   "source": [
    "## 3. Single Number II"
   ]
  },
  {
   "cell_type": "code",
   "execution_count": 4,
   "id": "66975945",
   "metadata": {},
   "outputs": [
    {
     "name": "stdout",
     "output_type": "stream",
     "text": [
      "2 2 3 2\n",
      "3\n"
     ]
    }
   ],
   "source": [
    "nums=[int(i) for i in input().split()]\n",
    "for i in nums:\n",
    "    if nums.count(i)==1:\n",
    "        print(i)\n",
    "        break"
   ]
  },
  {
   "cell_type": "code",
   "execution_count": null,
   "id": "75374e5b",
   "metadata": {},
   "outputs": [],
   "source": []
  }
 ],
 "metadata": {
  "kernelspec": {
   "display_name": "Python 3",
   "language": "python",
   "name": "python3"
  },
  "language_info": {
   "codemirror_mode": {
    "name": "ipython",
    "version": 3
   },
   "file_extension": ".py",
   "mimetype": "text/x-python",
   "name": "python",
   "nbconvert_exporter": "python",
   "pygments_lexer": "ipython3",
   "version": "3.8.8"
  }
 },
 "nbformat": 4,
 "nbformat_minor": 5
}
