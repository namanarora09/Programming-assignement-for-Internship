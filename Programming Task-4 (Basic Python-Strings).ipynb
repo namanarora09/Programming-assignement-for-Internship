{
 "cells": [
  {
   "cell_type": "markdown",
   "id": "91189c71",
   "metadata": {},
   "source": [
    "## 1. sWap cAse"
   ]
  },
  {
   "cell_type": "code",
   "execution_count": 4,
   "id": "1c37ddab",
   "metadata": {},
   "outputs": [
    {
     "name": "stdout",
     "output_type": "stream",
     "text": [
      "Hackerrank.com\n",
      "hACKERRANK.COM\n"
     ]
    }
   ],
   "source": [
    "def swap_case(s):\n",
    "    newTxt = \"\"\n",
    "    for i in range(len(s)):\n",
    "        if( s[i] == s[i].upper()):\n",
    "            newTxt += (s[i].lower())\n",
    "        else:\n",
    "            newTxt += (s[i].upper())\n",
    "    return newTxt\n",
    "\n",
    "if __name__ == '__main__':\n",
    "    s = input()\n",
    "    result = swap_case(s)\n",
    "    print(result)"
   ]
  },
  {
   "cell_type": "markdown",
   "id": "d4c14c8a",
   "metadata": {},
   "source": [
    "## 2. String Split and Join"
   ]
  },
  {
   "cell_type": "code",
   "execution_count": 2,
   "id": "bac977d2",
   "metadata": {},
   "outputs": [
    {
     "name": "stdout",
     "output_type": "stream",
     "text": [
      "this is a string\n",
      "this-is-a-string\n"
     ]
    }
   ],
   "source": [
    "import re\n",
    "def split_and_join(line):\n",
    "    # write your code here  \n",
    "    line = re.sub(r\"[^\\w\\s]\", '', line)\n",
    "    line = re.sub(r\"\\s+\", '-', line)\n",
    "    return line\n",
    "if __name__ == '__main__':\n",
    "    line = input()\n",
    "    result = split_and_join(line)\n",
    "    print(result)"
   ]
  },
  {
   "cell_type": "markdown",
   "id": "901c8f42",
   "metadata": {},
   "source": [
    "## 3. What's Your Name?"
   ]
  },
  {
   "cell_type": "code",
   "execution_count": 3,
   "id": "0584c9aa",
   "metadata": {},
   "outputs": [
    {
     "name": "stdout",
     "output_type": "stream",
     "text": [
      "Ross\n",
      "Taylor\n",
      "Hello Ross Taylor! You just delved into python.\n"
     ]
    }
   ],
   "source": [
    "def print_full_name(first_name,last_name) :\n",
    "    print(\"Hello\",first_name,last_name+\"! You just delved into python.\")\n",
    "first_name=input();\n",
    "last_name=input();\n",
    "print_full_name(first_name,last_name)"
   ]
  },
  {
   "cell_type": "markdown",
   "id": "8a73db5b",
   "metadata": {},
   "source": [
    "## 4. Mutations"
   ]
  },
  {
   "cell_type": "code",
   "execution_count": 7,
   "id": "2175363e",
   "metadata": {},
   "outputs": [
    {
     "name": "stdout",
     "output_type": "stream",
     "text": [
      "abracadabra\n",
      "5 k\n",
      "abrackdabra\n"
     ]
    }
   ],
   "source": [
    "def mutate_string(string, position, character):\n",
    "    str_n=\"\"\n",
    "    for key,val in enumerate(string):\n",
    "        if key==position:\n",
    "            str_n+=character\n",
    "        else:\n",
    "            str_n+=val\n",
    "    return str_n\n",
    "if __name__ == '__main__':\n",
    "    s = input()\n",
    "    i, c = input().split()\n",
    "    s_new = mutate_string(s, int(i), c)\n",
    "    print(s_new)"
   ]
  },
  {
   "cell_type": "markdown",
   "id": "c72d4be7",
   "metadata": {},
   "source": [
    "## 5. Find a string"
   ]
  },
  {
   "cell_type": "code",
   "execution_count": 8,
   "id": "c2b6ac59",
   "metadata": {},
   "outputs": [
    {
     "name": "stdout",
     "output_type": "stream",
     "text": [
      "ABCDCDC\n",
      "CDC\n",
      "2\n"
     ]
    }
   ],
   "source": [
    "def count_substring(string, sub_string):\n",
    "    n = 0\n",
    "    for i in range(len(string)):\n",
    "        if string[i: i+len(sub_string)] == sub_string:\n",
    "            n+= 1\n",
    "    return n\n",
    "if __name__ == '__main__':\n",
    "    string = input().strip()\n",
    "    sub_string = input().strip()\n",
    "    \n",
    "    count = count_substring(string, sub_string)\n",
    "    print(count)"
   ]
  },
  {
   "cell_type": "markdown",
   "id": "6bb7d523",
   "metadata": {},
   "source": [
    "## 6. String Validators"
   ]
  },
  {
   "cell_type": "code",
   "execution_count": 9,
   "id": "8fb1e554",
   "metadata": {},
   "outputs": [
    {
     "name": "stdout",
     "output_type": "stream",
     "text": [
      "qA2\n",
      "True\n",
      "True\n",
      "True\n",
      "True\n",
      "True\n"
     ]
    }
   ],
   "source": [
    "if __name__ == '__main__':\n",
    "    s_str = input()\n",
    "\n",
    "    s_list = list(s_str)\n",
    "    print([i.isalnum() for i in s_list].count(True) >= 1)\n",
    "    print([i.isalpha() for i in s_list].count(True) >= 1)\n",
    "    print([i.isdigit() for i in s_list].count(True) >= 1)\n",
    "    print([i.islower() for i in s_list].count(True) >= 1)\n",
    "    print([i.isupper() for i in s_list].count(True) >= 1)"
   ]
  },
  {
   "cell_type": "markdown",
   "id": "896e177c",
   "metadata": {},
   "source": [
    "## 7. Text Alignment"
   ]
  },
  {
   "cell_type": "code",
   "execution_count": 10,
   "id": "91fc3e49",
   "metadata": {},
   "outputs": [
    {
     "name": "stdout",
     "output_type": "stream",
     "text": [
      "5\n",
      "    H    \n",
      "   HHH   \n",
      "  HHHHH  \n",
      " HHHHHHH \n",
      "HHHHHHHHH\n",
      "  HHHHH               HHHHH             \n",
      "  HHHHH               HHHHH             \n",
      "  HHHHH               HHHHH             \n",
      "  HHHHH               HHHHH             \n",
      "  HHHHH               HHHHH             \n",
      "  HHHHH               HHHHH             \n",
      "  HHHHHHHHHHHHHHHHHHHHHHHHH   \n",
      "  HHHHHHHHHHHHHHHHHHHHHHHHH   \n",
      "  HHHHHHHHHHHHHHHHHHHHHHHHH   \n",
      "  HHHHH               HHHHH             \n",
      "  HHHHH               HHHHH             \n",
      "  HHHHH               HHHHH             \n",
      "  HHHHH               HHHHH             \n",
      "  HHHHH               HHHHH             \n",
      "  HHHHH               HHHHH             \n",
      "                    HHHHHHHHH \n",
      "                     HHHHHHH  \n",
      "                      HHHHH   \n",
      "                       HHH    \n",
      "                        H     \n"
     ]
    }
   ],
   "source": [
    "thickness = int(input()) #This must be an odd number\n",
    "c = 'H'\n",
    "\n",
    "#Top Cone\n",
    "for i in range(thickness):\n",
    "    print((c*i).rjust(thickness-1)+c+(c*i).ljust(thickness-1))\n",
    "\n",
    "#Top Pillars\n",
    "for i in range(thickness+1):\n",
    "    print((c*thickness).center(thickness*2)+(c*thickness).center(thickness*6))\n",
    "\n",
    "#Middle Belt\n",
    "for i in range((thickness+1)//2):\n",
    "    print((c*thickness*5).center(thickness*6))    \n",
    "\n",
    "#Bottom Pillars\n",
    "for i in range(thickness+1):\n",
    "    print((c*thickness).center(thickness*2)+(c*thickness).center(thickness*6))    \n",
    "\n",
    "#Bottom Cone\n",
    "for i in range(thickness):\n",
    "    print(((c*(thickness-i-1)).rjust(thickness)+c+(c*(thickness-i-1)).ljust(thickness)).rjust(thickness*6))\n"
   ]
  },
  {
   "cell_type": "markdown",
   "id": "3c5b6e66",
   "metadata": {},
   "source": [
    "## 8. Text Wrap"
   ]
  },
  {
   "cell_type": "code",
   "execution_count": 11,
   "id": "00243fb3",
   "metadata": {},
   "outputs": [
    {
     "name": "stdout",
     "output_type": "stream",
     "text": [
      "ABCDEFGHIJKLIMNOQRSTUVWXYZ\n",
      "4\n",
      "ABCD\n",
      "EFGH\n",
      "IJKL\n",
      "IMNO\n",
      "QRST\n",
      "UVWX\n",
      "YZ\n",
      "\n"
     ]
    }
   ],
   "source": [
    "import textwrap\n",
    "\n",
    "def wrap(string, max_width):\n",
    "    new = \"\"  \n",
    "    for i in range(0, len(string), max_width):\n",
    "        new += string[i:(max_width + i)] +\"\\n\" \n",
    "                \n",
    "    return new\n",
    "if __name__ == '__main__':\n",
    "    string, max_width = input(), int(input())\n",
    "    result = wrap(string, max_width)\n",
    "    print(result)"
   ]
  },
  {
   "cell_type": "markdown",
   "id": "322be1aa",
   "metadata": {},
   "source": [
    "## 9. Designer Door Mat"
   ]
  },
  {
   "cell_type": "code",
   "execution_count": 12,
   "id": "405071ed",
   "metadata": {},
   "outputs": [
    {
     "name": "stdout",
     "output_type": "stream",
     "text": [
      "9 27\n",
      "------------.|.------------\n",
      "---------.|..|..|.---------\n",
      "------.|..|..|..|..|.------\n",
      "---.|..|..|..|..|..|..|.---\n",
      "----------WELCOME----------\n",
      "---.|..|..|..|..|..|..|.---\n",
      "------.|..|..|..|..|.------\n",
      "---------.|..|..|.---------\n",
      "------------.|.------------\n"
     ]
    }
   ],
   "source": [
    "N, M = map(int,input().split())\n",
    "# Top part\n",
    "for i in range(1,N,2):\n",
    "    print((i * \".|.\").center(M, \"-\"))\n",
    "\n",
    "# Middle part\n",
    "print(\"WELCOME\".center(M, \"-\"))\n",
    "\n",
    "# Bottom part\n",
    "for i in range(N-2,-1,-2):\n",
    "    print((i * \".|.\").center(M, \"-\"))"
   ]
  },
  {
   "cell_type": "markdown",
   "id": "03a133c2",
   "metadata": {},
   "source": [
    "## 10. String Formatting"
   ]
  },
  {
   "cell_type": "code",
   "execution_count": 13,
   "id": "fcf5bbc5",
   "metadata": {},
   "outputs": [
    {
     "name": "stdout",
     "output_type": "stream",
     "text": [
      "17\n",
      "    1     1     1     1\n",
      "    2     2     2    10\n",
      "    3     3     3    11\n",
      "    4     4     4   100\n",
      "    5     5     5   101\n",
      "    6     6     6   110\n",
      "    7     7     7   111\n",
      "    8    10     8  1000\n",
      "    9    11     9  1001\n",
      "   10    12     A  1010\n",
      "   11    13     B  1011\n",
      "   12    14     C  1100\n",
      "   13    15     D  1101\n",
      "   14    16     E  1110\n",
      "   15    17     F  1111\n",
      "   16    20    10 10000\n",
      "   17    21    11 10001\n"
     ]
    }
   ],
   "source": [
    "def print_formatted(n):\n",
    "    \n",
    "    l=len('{0:b}'.format(n))\n",
    "    for i in range(1,n+1):\n",
    "        print((str(i)).rjust(l),str('{0:o}'.format(i)).rjust(l),str(uppercase(hex(i).replace(\"0x\",\"\"))).rjust(l),str('{0:b}'.format(i)).rjust(l))\n",
    "               \n",
    "def uppercase(a):\n",
    "    if a.isdigit():\n",
    "        return(a)\n",
    "    else:return(a.upper())\n",
    "\n",
    "if __name__ == '__main__':\n",
    "    n = int(input())\n",
    "    print_formatted(n)"
   ]
  },
  {
   "cell_type": "markdown",
   "id": "019961c3",
   "metadata": {},
   "source": [
    "## 11. Alphabet Rangoli"
   ]
  },
  {
   "cell_type": "code",
   "execution_count": 14,
   "id": "f6d4ebf7",
   "metadata": {},
   "outputs": [
    {
     "name": "stdout",
     "output_type": "stream",
     "text": [
      "5\n",
      "--------e--------\n",
      "------e-d-e------\n",
      "----e-d-c-d-e----\n",
      "--e-d-c-b-c-d-e--\n",
      "e-d-c-b-a-b-c-d-e\n",
      "--e-d-c-b-c-d-e--\n",
      "----e-d-c-d-e----\n",
      "------e-d-e------\n",
      "--------e--------\n"
     ]
    }
   ],
   "source": [
    "def print_rangoli(size):\n",
    "    # your code goes here\n",
    "    a = ord('a')\n",
    "    c=a+size-1\n",
    "    w=1+((size-1)*4)\n",
    "    s = chr(c)\n",
    "    for i in range(size):\n",
    "        if i > 0:\n",
    "            print((\"-\".join(list(s)) +\"-\" + \"-\".join(list(s[::-1][1:]))).center(w, \"-\"))\n",
    "        else:\n",
    "            print((\"-\".join(list(s))).center(w,\"-\"))\n",
    "        if i== size-1:\n",
    "            break\n",
    "        c-=1\n",
    "        s = s+chr(c)\n",
    "    \n",
    "    for i in range(1, size) :\n",
    "        ss = s[:len(s)-i]\n",
    "        if i < size-1:\n",
    "            print((\"-\".join(list(ss)) +\"-\" + \"-\".join(list(ss[::-1][1:]))).center(w, \"-\"))\n",
    "        else:\n",
    "            print((\"-\".join(list(ss))).center(w,\"-\"))\n",
    "\n",
    "if __name__ == '__main__':\n",
    "    n = int(input())\n",
    "    print_rangoli(n)"
   ]
  },
  {
   "cell_type": "markdown",
   "id": "71579200",
   "metadata": {},
   "source": [
    "## 12. Capitalize!"
   ]
  },
  {
   "cell_type": "code",
   "execution_count": 18,
   "id": "3f1fd46e",
   "metadata": {},
   "outputs": [
    {
     "name": "stdout",
     "output_type": "stream",
     "text": [
      "chris alan\n",
      "Chris Alan \n"
     ]
    }
   ],
   "source": [
    "\n",
    "def solve(s):\n",
    "    newS = \"\"\n",
    "    ls = (s.split(\" \"))     #split words into a list\n",
    "    for i in (ls):\n",
    "        newS = newS + str(i.capitalize()) + \" \" \n",
    "\n",
    "    return newS\n",
    "s = input()\n",
    "result = solve(s)\n",
    "print(result)"
   ]
  },
  {
   "cell_type": "markdown",
   "id": "e5d7c199",
   "metadata": {},
   "source": [
    "## 13. The Minion Game"
   ]
  },
  {
   "cell_type": "code",
   "execution_count": 19,
   "id": "503c8401",
   "metadata": {},
   "outputs": [
    {
     "name": "stdout",
     "output_type": "stream",
     "text": [
      "BANANA\n",
      "Stuart 12\n"
     ]
    }
   ],
   "source": [
    "vowels = 'AEIOU'\n",
    "def minion_game(string):\n",
    "    kevin = 0\n",
    "    n =len(string)\n",
    "    total = int((n*(n+1))/2)\n",
    "    for i in range(n):\n",
    "        if string[i] in vowels:\n",
    "            kevin = kevin + (n-i)\n",
    "    stuart = total - kevin\n",
    "    \n",
    "    if stuart == kevin:\n",
    "        print ('Draw')\n",
    "    elif stuart > kevin:\n",
    "        print(f'Stuart {stuart}')\n",
    "    else:\n",
    "        print(f'Kevin {kevin}')\n",
    "if __name__ == '__main__':\n",
    "    s = input()\n",
    "    minion_game(s)"
   ]
  },
  {
   "cell_type": "markdown",
   "id": "405dc471",
   "metadata": {},
   "source": [
    "## 13. Merge the Tools!"
   ]
  },
  {
   "cell_type": "code",
   "execution_count": 20,
   "id": "b96acf77",
   "metadata": {},
   "outputs": [
    {
     "name": "stdout",
     "output_type": "stream",
     "text": [
      "AABCAAADA\n",
      "3\n",
      "AB\n",
      "AC\n",
      "AD\n"
     ]
    }
   ],
   "source": [
    "def merge_the_tools(string, k):\n",
    "    print(*(''.join(set(string[i: i + k])) for i in range(0, len(string), k)), sep='\\n')\n",
    "if __name__ == '__main__':\n",
    "    string, k = input(), int(input())\n",
    "    merge_the_tools(string, k)"
   ]
  },
  {
   "cell_type": "code",
   "execution_count": null,
   "id": "0155fce8",
   "metadata": {},
   "outputs": [],
   "source": []
  }
 ],
 "metadata": {
  "kernelspec": {
   "display_name": "Python 3",
   "language": "python",
   "name": "python3"
  },
  "language_info": {
   "codemirror_mode": {
    "name": "ipython",
    "version": 3
   },
   "file_extension": ".py",
   "mimetype": "text/x-python",
   "name": "python",
   "nbconvert_exporter": "python",
   "pygments_lexer": "ipython3",
   "version": "3.8.8"
  }
 },
 "nbformat": 4,
 "nbformat_minor": 5
}
