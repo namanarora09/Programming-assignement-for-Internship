{
 "cells": [
  {
   "cell_type": "markdown",
   "id": "ce3c1b48",
   "metadata": {},
   "source": [
    "## 1.Polar Coordinates"
   ]
  },
  {
   "cell_type": "code",
   "execution_count": 1,
   "id": "1d6475d5",
   "metadata": {},
   "outputs": [
    {
     "name": "stdout",
     "output_type": "stream",
     "text": [
      "1+2j\n",
      "2.23606797749979\n",
      "1.1071487177940904\n"
     ]
    }
   ],
   "source": [
    "import cmath\n",
    "input_str = input()\n",
    "try:\n",
    "    z = complex(input_str)\n",
    "except ValueError:\n",
    "    print(\"Invalid input format\")\n",
    "    exit(1)\n",
    "        \n",
    "print(abs(z))\n",
    "arg_z = cmath.phase(z)\n",
    "print(arg_z)"
   ]
  },
  {
   "cell_type": "markdown",
   "id": "8f17f644",
   "metadata": {},
   "source": [
    "## 2. Find Angle MBC"
   ]
  },
  {
   "cell_type": "code",
   "execution_count": 2,
   "id": "e8409411",
   "metadata": {},
   "outputs": [
    {
     "name": "stdout",
     "output_type": "stream",
     "text": [
      "10\n",
      "10\n",
      "45°\n"
     ]
    }
   ],
   "source": [
    "from math import atan, degrees\n",
    "AB = int(input())\n",
    "BC = int(input())\n",
    "\n",
    "angleC = atan(AB/BC)\n",
    "print((round(degrees(angleC))),chr(176),sep='')"
   ]
  },
  {
   "cell_type": "markdown",
   "id": "30fed6fe",
   "metadata": {},
   "source": [
    "## 3. Triangle Quest 2"
   ]
  },
  {
   "cell_type": "code",
   "execution_count": 3,
   "id": "02133b1d",
   "metadata": {},
   "outputs": [
    {
     "name": "stdout",
     "output_type": "stream",
     "text": [
      "5\n",
      "1\n",
      "121\n",
      "12321\n",
      "1234321\n",
      "123454321\n"
     ]
    }
   ],
   "source": [
    "for i in range(1, int(input())+1):\n",
    "    print((10**i//9)**2)"
   ]
  },
  {
   "cell_type": "markdown",
   "id": "9687f3f2",
   "metadata": {},
   "source": [
    "## 4. Mod Divmod"
   ]
  },
  {
   "cell_type": "code",
   "execution_count": 4,
   "id": "5cd3c05a",
   "metadata": {},
   "outputs": [
    {
     "name": "stdout",
     "output_type": "stream",
     "text": [
      "177\n",
      "10\n",
      "17\n",
      "7\n",
      "(17, 7)\n"
     ]
    }
   ],
   "source": [
    "a = int(input())\n",
    "b = int(input())\n",
    "\n",
    "print(a // b)\n",
    "print(a % b)\n",
    "print (divmod(a, b))"
   ]
  },
  {
   "cell_type": "markdown",
   "id": "73eaba89",
   "metadata": {},
   "source": [
    "## 5. Power - Mod Power"
   ]
  },
  {
   "cell_type": "code",
   "execution_count": 5,
   "id": "06e36b22",
   "metadata": {},
   "outputs": [
    {
     "name": "stdout",
     "output_type": "stream",
     "text": [
      "3\n",
      "4\n",
      "5\n",
      "81\n",
      "1\n"
     ]
    }
   ],
   "source": [
    "a=int(input())\n",
    "b=int(input())\n",
    "m=int(input())\n",
    "print(pow(a,b))\n",
    "print(pow(a,b,m))"
   ]
  },
  {
   "cell_type": "markdown",
   "id": "54787b97",
   "metadata": {},
   "source": [
    "## 6. Integers Come in All Sizes"
   ]
  },
  {
   "cell_type": "code",
   "execution_count": 6,
   "id": "053825bf",
   "metadata": {},
   "outputs": [
    {
     "name": "stdout",
     "output_type": "stream",
     "text": [
      "9\n",
      "29\n",
      "7\n",
      "27\n",
      "4710194409608608369201743232\n"
     ]
    }
   ],
   "source": [
    "a,b,c,d = int(input()),int(input()),int(input()),int(input())\n",
    "print(a**b + c**d)"
   ]
  },
  {
   "cell_type": "markdown",
   "id": "e2a795b6",
   "metadata": {},
   "source": [
    "## 7. Triangle Quest"
   ]
  },
  {
   "cell_type": "code",
   "execution_count": 7,
   "id": "99c0ce4b",
   "metadata": {},
   "outputs": [
    {
     "name": "stdout",
     "output_type": "stream",
     "text": [
      "5\n",
      "1\n",
      "22\n",
      "333\n",
      "4444\n"
     ]
    }
   ],
   "source": [
    "for i in range(1, int(input())): \n",
    "    print((10**i // 9) * i)"
   ]
  },
  {
   "cell_type": "code",
   "execution_count": null,
   "id": "c14b0afb",
   "metadata": {},
   "outputs": [],
   "source": []
  }
 ],
 "metadata": {
  "kernelspec": {
   "display_name": "Python 3",
   "language": "python",
   "name": "python3"
  },
  "language_info": {
   "codemirror_mode": {
    "name": "ipython",
    "version": 3
   },
   "file_extension": ".py",
   "mimetype": "text/x-python",
   "name": "python",
   "nbconvert_exporter": "python",
   "pygments_lexer": "ipython3",
   "version": "3.8.8"
  }
 },
 "nbformat": 4,
 "nbformat_minor": 5
}
