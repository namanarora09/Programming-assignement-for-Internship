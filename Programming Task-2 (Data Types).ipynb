{
 "cells": [
  {
   "cell_type": "markdown",
   "id": "95fd6d57",
   "metadata": {},
   "source": [
    "## 1. List Comprehensions"
   ]
  },
  {
   "cell_type": "code",
   "execution_count": 1,
   "id": "06d1f20b",
   "metadata": {},
   "outputs": [
    {
     "name": "stdout",
     "output_type": "stream",
     "text": [
      "1\n",
      "1\n",
      "1\n",
      "2\n",
      "[[0, 0, 0], [0, 0, 1], [0, 1, 0], [1, 0, 0], [1, 1, 1]]\n"
     ]
    }
   ],
   "source": [
    "if __name__ == '__main__':\n",
    "    x = int(input())\n",
    "    y = int(input())\n",
    "    z = int(input())\n",
    "    n = int(input())\n",
    "    result=[]\n",
    "    for i in range(x+1):\n",
    "        for j in range(y+1):\n",
    "            for k in range(z+1):\n",
    "                temp=[]\n",
    "                if i+j+k!=n:\n",
    "                    temp.append(i)\n",
    "                    temp.append(j)\n",
    "                    temp.append(k)\n",
    "                    result.append(temp)\n",
    "    print(result)"
   ]
  },
  {
   "cell_type": "markdown",
   "id": "a0d85d80",
   "metadata": {},
   "source": [
    "## 2. Find the Runner-Up Score!"
   ]
  },
  {
   "cell_type": "code",
   "execution_count": 2,
   "id": "8aecbf1d",
   "metadata": {},
   "outputs": [
    {
     "name": "stdout",
     "output_type": "stream",
     "text": [
      "5\n",
      "2 3 6 6 5\n",
      "5\n"
     ]
    }
   ],
   "source": [
    "import sys\n",
    "if __name__ == '__main__':\n",
    "    n = int(input())\n",
    "    arr = set(int(i) for i in input().split(\" \"))\n",
    "    max1=-sys.maxsize-1\n",
    "    max2=-sys.maxsize-1\n",
    "    for i in arr:\n",
    "        if i>max1:\n",
    "            max2=max1\n",
    "            max1=i\n",
    "        elif i>max2:\n",
    "            max2=i\n",
    "    print(max2)"
   ]
  },
  {
   "cell_type": "markdown",
   "id": "12f9e418",
   "metadata": {},
   "source": [
    "## 3. Nested Lists"
   ]
  },
  {
   "cell_type": "code",
   "execution_count": 3,
   "id": "187ce760",
   "metadata": {},
   "outputs": [
    {
     "name": "stdout",
     "output_type": "stream",
     "text": [
      "5\n",
      "Harry\n",
      "37.21\n",
      "Berry\n",
      "37.21\n",
      "Tina\n",
      "37.2\n",
      "Akriti\n",
      "41\n",
      "Harsh\n",
      "39\n",
      "Berry\n",
      "Harry\n"
     ]
    }
   ],
   "source": [
    "nest_list = []\n",
    "score_list = []\n",
    "\n",
    "for i in range(int(input())):\n",
    "        name = input()\n",
    "        score = float(input())\n",
    "        nest_list.append([name,score])\n",
    "        score_list.append(score)\n",
    "\n",
    "s = [*set(score_list)]\n",
    "s.sort()\n",
    "def Sort(nest_list):\n",
    "  nest_list.sort(key = lambda x: (x[1], x[0]))\n",
    "  return nest_list\n",
    "\n",
    "for x in Sort(nest_list):\n",
    "  if x[1] == s[1]:\n",
    "    print(x[0])"
   ]
  },
  {
   "cell_type": "markdown",
   "id": "11a16533",
   "metadata": {},
   "source": [
    "## 4. Find the percentage"
   ]
  },
  {
   "cell_type": "code",
   "execution_count": 6,
   "id": "bcfaadae",
   "metadata": {},
   "outputs": [
    {
     "name": "stdout",
     "output_type": "stream",
     "text": [
      "3\n",
      "Krishna 67 68 69\n",
      "Arjun 70 98 63\n",
      "Malika 52 56 60\n",
      "Malika\n",
      "56.00\n"
     ]
    }
   ],
   "source": [
    "if __name__ == '__main__':\n",
    "    n = int(input())\n",
    "    student_marks = {}\n",
    "    for _ in range(n):\n",
    "        name, *line = input().split()\n",
    "        scores = list(map(float, line))\n",
    "        student_marks[name] = scores\n",
    "    query_name = input()\n",
    "avg = sum(student_marks[query_name])/len(student_marks[query_name])\n",
    "print(\"{0:.2f}\".format(avg))"
   ]
  },
  {
   "cell_type": "markdown",
   "id": "d31f5836",
   "metadata": {},
   "source": [
    "## 5. Lists"
   ]
  },
  {
   "cell_type": "code",
   "execution_count": 7,
   "id": "48e3aa25",
   "metadata": {},
   "outputs": [
    {
     "name": "stdout",
     "output_type": "stream",
     "text": [
      "12\n",
      "insert 0 5\n",
      "insert 1 10\n",
      "insert 0 6\n",
      "print\n",
      "[6, 5, 10]\n",
      "remove 6\n",
      "append 9\n",
      "append 1\n",
      "sort\n",
      "print\n",
      "[1, 5, 9, 10]\n",
      "pop\n",
      "reverse\n",
      "print\n",
      "[9, 5, 1]\n"
     ]
    }
   ],
   "source": [
    "if __name__ == '__main__':\n",
    "    N = int(input())\n",
    "    l = []\n",
    "    for _ in range(N):\n",
    "        inp = input().split()\n",
    "        if 'insert' in inp:\n",
    "            l.insert(int(inp[1]), int(inp[2]))\n",
    "        elif 'print' in inp:\n",
    "            print(l)\n",
    "        elif 'remove' in inp:\n",
    "            l.remove(int(inp[1]))\n",
    "        elif 'append' in inp:\n",
    "            l.append(int(inp[1]))\n",
    "        elif 'sort' in inp:\n",
    "            l.sort()\n",
    "        elif 'pop' in inp:\n",
    "            l.pop()\n",
    "        elif 'reverse' in inp:\n",
    "            l.reverse()\n"
   ]
  },
  {
   "cell_type": "markdown",
   "id": "ba586c99",
   "metadata": {},
   "source": [
    "## 6. Tuples"
   ]
  },
  {
   "cell_type": "code",
   "execution_count": 8,
   "id": "f8d16da3",
   "metadata": {},
   "outputs": [
    {
     "name": "stdout",
     "output_type": "stream",
     "text": [
      "2\n",
      "1 2\n",
      "-3550055125485641917\n"
     ]
    }
   ],
   "source": [
    "if __name__ == '__main__':\n",
    "    n = int(input())\n",
    "    int_list = [int(i) for i in input().split()]\n",
    "    int_tuple = tuple(int_list)\n",
    "    print(hash(int_tuple))\n"
   ]
  },
  {
   "cell_type": "markdown",
   "id": "6e7b7d45",
   "metadata": {},
   "source": [
    "## 7. Introduction to Sets"
   ]
  },
  {
   "cell_type": "code",
   "execution_count": 2,
   "id": "80637c58",
   "metadata": {},
   "outputs": [
    {
     "name": "stdout",
     "output_type": "stream",
     "text": [
      "5\n",
      "2 3 4 5 6\n",
      "4.0\n"
     ]
    }
   ],
   "source": [
    "def average(array):\n",
    "    set_arr = set(array)\n",
    "    return sum(set_arr)/len(set_arr)\n",
    "if __name__ == '__main__':\n",
    "    n = int(input())\n",
    "    arr = list(map(int, input().split()))\n",
    "    result = average(arr)\n",
    "    print(result)"
   ]
  },
  {
   "cell_type": "markdown",
   "id": "fc57d079",
   "metadata": {},
   "source": [
    "## 8. No Idea!"
   ]
  },
  {
   "cell_type": "code",
   "execution_count": 3,
   "id": "717bd63c",
   "metadata": {},
   "outputs": [
    {
     "name": "stdout",
     "output_type": "stream",
     "text": [
      "3 2\n",
      "1 5 3\n",
      "3 1\n",
      "5 7\n",
      "1\n"
     ]
    }
   ],
   "source": [
    "n,m = list(map(int, input().split()))\n",
    "arr, a, b = list(map(int, input().split())), set(map(int, input().split())), set(map(int, input().split()))\n",
    "\n",
    "x = set(arr) & a \n",
    "y = set(arr) & b\n",
    "c = 0\n",
    "for i in arr:\n",
    "    if i in x: \n",
    "        c += 1\n",
    "    elif i in y: \n",
    "        c -= 1\n",
    "\n",
    "print(c)"
   ]
  },
  {
   "cell_type": "markdown",
   "id": "43316a25",
   "metadata": {},
   "source": [
    "## 9. Symmetric Difference"
   ]
  },
  {
   "cell_type": "code",
   "execution_count": 4,
   "id": "b170cf7f",
   "metadata": {},
   "outputs": [
    {
     "name": "stdout",
     "output_type": "stream",
     "text": [
      "4\n",
      "2 4 5 9\n",
      "4\n",
      "2 4 11 12\n",
      "5\n",
      "9\n",
      "11\n",
      "12\n"
     ]
    }
   ],
   "source": [
    "M = int(input())\n",
    "a = set(map(int, input().split()))\n",
    "N = int(input())\n",
    "b = set(map(int,input().split()))\n",
    "\n",
    "sym = sorted(x for x in a.symmetric_difference(b))\n",
    "for elems in sym:\n",
    "    print(elems)"
   ]
  },
  {
   "cell_type": "markdown",
   "id": "73771a03",
   "metadata": {},
   "source": [
    "## 10. Set .add()"
   ]
  },
  {
   "cell_type": "code",
   "execution_count": 5,
   "id": "656077fc",
   "metadata": {},
   "outputs": [
    {
     "name": "stdout",
     "output_type": "stream",
     "text": [
      "7\n",
      "UK\n",
      "China\n",
      "USA\n",
      "France\n",
      "New Zealand\n",
      "UK\n",
      "France\n",
      "5\n"
     ]
    }
   ],
   "source": [
    "number = int(input())\n",
    "lst = []\n",
    "for i in range(number):\n",
    "    enter = input()\n",
    "    lst.append(enter)\n",
    "    \n",
    "resultado = len(set(lst))\n",
    "\n",
    "print(resultado)"
   ]
  },
  {
   "cell_type": "markdown",
   "id": "19ef15c2",
   "metadata": {},
   "source": [
    "## 11. Set .discard(), .remove() & .pop()"
   ]
  },
  {
   "cell_type": "code",
   "execution_count": 6,
   "id": "216edfdb",
   "metadata": {},
   "outputs": [
    {
     "name": "stdout",
     "output_type": "stream",
     "text": [
      "9\n",
      "1 2 3 4 5 6 7 8 9\n",
      "10\n",
      "pop\n",
      "remove 9\n",
      "discard 9\n",
      "discard 8\n",
      "remove 7\n",
      "pop\n",
      "discard 6\n",
      "remove 5\n",
      "pop\n",
      "discard 5\n",
      "4\n"
     ]
    }
   ],
   "source": [
    "num = int(input())\n",
    "data = set(map(int, input().split()))\n",
    "operations = int(input())\n",
    "\n",
    "for x in range(operations):\n",
    "  oper = input().split()\n",
    "  if oper[0] == \"remove\":\n",
    "    data.remove(int(oper[1]))\n",
    "  elif oper[0] == \"discard\":\n",
    "    data.discard(int(oper[1]))\n",
    "  else:\n",
    "    data.pop()\n",
    "    \n",
    "print(sum(data))"
   ]
  },
  {
   "cell_type": "markdown",
   "id": "b4083151",
   "metadata": {},
   "source": [
    "## 12. Set .union() Operation"
   ]
  },
  {
   "cell_type": "code",
   "execution_count": 7,
   "id": "c233af8b",
   "metadata": {},
   "outputs": [
    {
     "name": "stdout",
     "output_type": "stream",
     "text": [
      "9\n",
      "1 2 3 4 5 6 7 8 9\n",
      "9\n",
      "10 1 2 3 11 21 55 6 8\n",
      "13\n"
     ]
    }
   ],
   "source": [
    "n, N = (int(input()), set(map(int, input().split())))\n",
    "b, B = (int(input()), set(map(int, input().split())))\n",
    "print(len(N.union(B)))"
   ]
  },
  {
   "cell_type": "markdown",
   "id": "1282aafc",
   "metadata": {},
   "source": [
    "## 13. Set .intersection() Operation"
   ]
  },
  {
   "cell_type": "code",
   "execution_count": 8,
   "id": "8bfb6277",
   "metadata": {},
   "outputs": [
    {
     "name": "stdout",
     "output_type": "stream",
     "text": [
      "9\n",
      "1 2 3 4 5 6 7 8 9\n",
      "9\n",
      "10 1 2 3 11 21 55 6 8\n",
      "5\n"
     ]
    }
   ],
   "source": [
    "input()\n",
    "s = set(input().split())\n",
    "input()\n",
    "print(len(s.intersection(input().split())))"
   ]
  },
  {
   "cell_type": "markdown",
   "id": "8ba9dc77",
   "metadata": {},
   "source": [
    "## 14. Set .difference() Operation"
   ]
  },
  {
   "cell_type": "code",
   "execution_count": 9,
   "id": "c23abe72",
   "metadata": {},
   "outputs": [
    {
     "name": "stdout",
     "output_type": "stream",
     "text": [
      "9\n",
      "1 2 3 4 5 6 7 8 9\n",
      "9\n",
      "10 1 2 3 11 21 55 6 8\n",
      "4\n"
     ]
    }
   ],
   "source": [
    "input()\n",
    "s = set(input().split())\n",
    "input()\n",
    "print(len(s.difference(input().split())))"
   ]
  },
  {
   "cell_type": "markdown",
   "id": "a11b6cb7",
   "metadata": {},
   "source": [
    "## 15. Set .symmetric_difference() Operation"
   ]
  },
  {
   "cell_type": "code",
   "execution_count": 10,
   "id": "80fbeb2a",
   "metadata": {},
   "outputs": [
    {
     "name": "stdout",
     "output_type": "stream",
     "text": [
      "9\n",
      "1 2 3 4 5 6 7 8 9\n",
      "9\n",
      "10 1 2 3 11 21 55 6 8\n",
      "8\n"
     ]
    }
   ],
   "source": [
    "input()\n",
    "a = set(map(int, input().split()))\n",
    "input()\n",
    "b = set(map(int, input().split()))\n",
    "print(len(a.symmetric_difference(b)))"
   ]
  },
  {
   "cell_type": "markdown",
   "id": "89766fd0",
   "metadata": {},
   "source": [
    "## 16. Set Mutations"
   ]
  },
  {
   "cell_type": "code",
   "execution_count": 11,
   "id": "ba9aed77",
   "metadata": {},
   "outputs": [
    {
     "name": "stdout",
     "output_type": "stream",
     "text": [
      "16\n",
      "1 2 3 4 5 6 7 8 9 10 11 12 13 14 24 52\n",
      "4\n",
      "intersection_update 10\n",
      "2 3 5 6 8 9 1 4 7 11\n",
      "update 2\n",
      "55 66\n",
      "symmetric_difference_update 5\n",
      "22 7 35 62 58\n",
      "difference_update 7\n",
      "11 22 35 55 58 62 66\n",
      "38\n"
     ]
    }
   ],
   "source": [
    "n = int(input())\n",
    "A = set(map(int, input().split()))\n",
    "N = int(input())\n",
    "operations = []\n",
    "for i in range(N):\n",
    "    op, dummy = input().split()\n",
    "    numbers = set(map(int, input().split()))\n",
    "    operations.append((op, numbers))\n",
    "for op, numbers in operations:\n",
    "    if(op == 'intersection_update'):\n",
    "        A &= numbers\n",
    "    if(op == 'symmetric_difference_update'):\n",
    "        A ^= numbers\n",
    "    if(op == 'difference_update'):\n",
    "        A -= numbers\n",
    "    if(op == 'update'):\n",
    "        A |= numbers\n",
    "print(sum(A))\n"
   ]
  },
  {
   "cell_type": "markdown",
   "id": "5ebea9c1",
   "metadata": {},
   "source": [
    "## 17. The Captain's Room"
   ]
  },
  {
   "cell_type": "code",
   "execution_count": 13,
   "id": "8961a7de",
   "metadata": {},
   "outputs": [
    {
     "name": "stdout",
     "output_type": "stream",
     "text": [
      "5\n",
      "1 2 3 6 5 4 4 2 5 3 6 1 6 5 3 2 4 1 2 5 1 4 3 6 8 4 3 1 5 6 2\n",
      "8\n"
     ]
    }
   ],
   "source": [
    "k = int(input())\n",
    "\n",
    "rooms = list(map(int, input().split()))\n",
    "print((sum(set(rooms)) * k - sum(rooms)) // (k - 1))"
   ]
  },
  {
   "cell_type": "markdown",
   "id": "7487c834",
   "metadata": {},
   "source": [
    "## 18. Check Subset"
   ]
  },
  {
   "cell_type": "code",
   "execution_count": 14,
   "id": "419f0492",
   "metadata": {},
   "outputs": [
    {
     "name": "stdout",
     "output_type": "stream",
     "text": [
      "3\n",
      "5\n",
      "1 2 3 5 6\n",
      "9\n",
      "9 8 5 6 3 2 1 4 7\n",
      "True\n",
      "1\n",
      "2\n",
      "5\n",
      "3 6 5 4 1\n",
      "False\n",
      "7\n",
      "1 2 3 5 6 8\n",
      "9\n",
      "3\n",
      "False\n"
     ]
    }
   ],
   "source": [
    "t=int(input())\n",
    "for i in range(t):\n",
    "    l=[]\n",
    "    l1=[]\n",
    "    c=0\n",
    "    n1=int(input())\n",
    "    l=list(map(int,input().split()))\n",
    "    n2=int(input())\n",
    "    l1=list(map(int,input().split()))\n",
    "    for i in l:\n",
    "        if i in l1:\n",
    "            c=c+1\n",
    "    if c==len(l):\n",
    "        print(True)\n",
    "    else:\n",
    "        print(False)"
   ]
  },
  {
   "cell_type": "markdown",
   "id": "5a0d3ea4",
   "metadata": {},
   "source": [
    "## 19. Check Strict Superset"
   ]
  },
  {
   "cell_type": "code",
   "execution_count": 15,
   "id": "235acb15",
   "metadata": {},
   "outputs": [
    {
     "name": "stdout",
     "output_type": "stream",
     "text": [
      "1 2 3 4 5 6 7 8 9 10 11 12 23 45 84 78\n",
      "2\n",
      "1 2 3 4 5\n",
      "100 11 12\n",
      "False\n"
     ]
    }
   ],
   "source": [
    "set_a = set(map(int, input().split()))\n",
    "\n",
    "def is_superset_of_all(set_a):\n",
    "    for i in range(int(input())):\n",
    "        set_x = set(map(int, input().split()))\n",
    "        if not set_a.issuperset(set_x): return False\n",
    "    return True\n",
    "\n",
    "print(is_superset_of_all(set_a))"
   ]
  }
 ],
 "metadata": {
  "kernelspec": {
   "display_name": "Python 3",
   "language": "python",
   "name": "python3"
  },
  "language_info": {
   "codemirror_mode": {
    "name": "ipython",
    "version": 3
   },
   "file_extension": ".py",
   "mimetype": "text/x-python",
   "name": "python",
   "nbconvert_exporter": "python",
   "pygments_lexer": "ipython3",
   "version": "3.8.8"
  }
 },
 "nbformat": 4,
 "nbformat_minor": 5
}
