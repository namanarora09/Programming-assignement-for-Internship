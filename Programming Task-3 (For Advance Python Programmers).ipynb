{
 "cells": [
  {
   "cell_type": "markdown",
   "id": "ed629631",
   "metadata": {},
   "source": [
    "## 1. Maximum Product of Two Elements in an Array"
   ]
  },
  {
   "cell_type": "code",
   "execution_count": 3,
   "id": "3818c531",
   "metadata": {},
   "outputs": [
    {
     "name": "stdout",
     "output_type": "stream",
     "text": [
      "3 4 5 2\n",
      "12\n"
     ]
    }
   ],
   "source": [
    "nums=[int(i) for i in input().split()]\n",
    "maxProd=0\n",
    "for i in range(len(nums)-1):\n",
    "    for j in range(i+1,len(nums)):\n",
    "        maxProd=max(maxProd,(nums[i]-1)*(nums[j]-1))\n",
    "print(maxProd)"
   ]
  },
  {
   "cell_type": "markdown",
   "id": "8b165f69",
   "metadata": {},
   "source": [
    "## 2. Count Number of Teams"
   ]
  },
  {
   "cell_type": "code",
   "execution_count": 4,
   "id": "f252d3eb",
   "metadata": {},
   "outputs": [
    {
     "name": "stdout",
     "output_type": "stream",
     "text": [
      "2 5 3 4 1\n"
     ]
    },
    {
     "data": {
      "text/plain": [
       "3"
      ]
     },
     "execution_count": 4,
     "metadata": {},
     "output_type": "execute_result"
    }
   ],
   "source": [
    "def numTeams(rating):\n",
    "    result = 0\n",
    "    for idx, middle in enumerate(rating):\n",
    "        a = sum(left < middle for jdx, left in enumerate(rating[:idx]))\n",
    "        b = sum(left > middle for jdx, left in enumerate(rating[:idx]))           \n",
    "        c = sum(right < middle for jdx, right in enumerate(rating[idx+1:]))\n",
    "        d = sum(middle < right for jdx, right in enumerate(rating[idx+1:]))\n",
    "        result += a*d + b*c\n",
    "    return result\n",
    "rating=[int(i) for i in input().split()]\n",
    "numTeams(rating)"
   ]
  },
  {
   "cell_type": "markdown",
   "id": "f9409f69",
   "metadata": {},
   "source": [
    "## 3. Number of Students Doing Homework at a Given Time"
   ]
  },
  {
   "cell_type": "code",
   "execution_count": 7,
   "id": "e630f26e",
   "metadata": {},
   "outputs": [
    {
     "name": "stdout",
     "output_type": "stream",
     "text": [
      "4\n",
      "4\n",
      "4\n",
      "1\n"
     ]
    }
   ],
   "source": [
    "startTime=[int(i) for i in input().split()]\n",
    "endTime=[int(i) for i in input().split()]\n",
    "queryTime=int(input())\n",
    "count=0\n",
    "for i in range(len(startTime)):\n",
    "    if startTime[i]<=queryTime and endTime[i]>=queryTime:\n",
    "        count+=1\n",
    "print(count)"
   ]
  },
  {
   "cell_type": "markdown",
   "id": "d6955011",
   "metadata": {},
   "source": [
    "## 4. Number of Steps to reduct a Number to Zero"
   ]
  },
  {
   "cell_type": "code",
   "execution_count": 8,
   "id": "5cea8dfe",
   "metadata": {},
   "outputs": [
    {
     "name": "stdout",
     "output_type": "stream",
     "text": [
      "14\n",
      "6\n"
     ]
    }
   ],
   "source": [
    "num=int(input())\n",
    "steps=0\n",
    "while num>0:\n",
    "    if num%2==0:\n",
    "        num=int(num/2)\n",
    "        steps+=1\n",
    "    else:\n",
    "        num-=1\n",
    "        steps+=1\n",
    "print(steps)"
   ]
  },
  {
   "cell_type": "markdown",
   "id": "bd3377df",
   "metadata": {},
   "source": [
    "## 5. Counting Bits"
   ]
  },
  {
   "cell_type": "code",
   "execution_count": 11,
   "id": "e7c27298",
   "metadata": {},
   "outputs": [
    {
     "name": "stdout",
     "output_type": "stream",
     "text": [
      "5\n",
      "[0, 1, 1, 2, 1, 2]\n"
     ]
    }
   ],
   "source": [
    "n=int(input())\n",
    "result=[]\n",
    "for i in range(n+1):\n",
    "    str_hex_data=str(bin(i)[2:])\n",
    "    result.append(str_hex_data.count(\"1\"))\n",
    "print(result)"
   ]
  },
  {
   "cell_type": "code",
   "execution_count": null,
   "id": "a33198b1",
   "metadata": {},
   "outputs": [],
   "source": []
  }
 ],
 "metadata": {
  "kernelspec": {
   "display_name": "Python 3",
   "language": "python",
   "name": "python3"
  },
  "language_info": {
   "codemirror_mode": {
    "name": "ipython",
    "version": 3
   },
   "file_extension": ".py",
   "mimetype": "text/x-python",
   "name": "python",
   "nbconvert_exporter": "python",
   "pygments_lexer": "ipython3",
   "version": "3.8.8"
  }
 },
 "nbformat": 4,
 "nbformat_minor": 5
}
