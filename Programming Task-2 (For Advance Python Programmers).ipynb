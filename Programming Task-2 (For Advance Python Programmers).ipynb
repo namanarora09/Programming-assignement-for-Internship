{
 "cells": [
  {
   "cell_type": "markdown",
   "id": "a4dbebf1",
   "metadata": {},
   "source": [
    "## 1. Defanging an IP Address"
   ]
  },
  {
   "cell_type": "code",
   "execution_count": 4,
   "id": "fa81b344",
   "metadata": {},
   "outputs": [
    {
     "name": "stdout",
     "output_type": "stream",
     "text": [
      "1.1.1.1\n",
      "1[.]1[.]1[.]1\n"
     ]
    }
   ],
   "source": [
    "ip=input();\n",
    "ip=ip.replace('.',\"[.]\")\n",
    "print(ip)"
   ]
  },
  {
   "cell_type": "markdown",
   "id": "57c80beb",
   "metadata": {},
   "source": [
    "## 2. Find Numbers with Even Number of Digits"
   ]
  },
  {
   "cell_type": "code",
   "execution_count": 8,
   "id": "eeedefb0",
   "metadata": {},
   "outputs": [
    {
     "name": "stdout",
     "output_type": "stream",
     "text": [
      "12 345 2 6 7896\n",
      "2\n"
     ]
    }
   ],
   "source": [
    "nums=input().split()\n",
    "count=0\n",
    "for i in nums:\n",
    "    if len(i)%2==0:\n",
    "        count+=1\n",
    "print(count)"
   ]
  },
  {
   "cell_type": "markdown",
   "id": "f6814e5d",
   "metadata": {},
   "source": [
    "## 3. Number of Good Pairs"
   ]
  },
  {
   "cell_type": "code",
   "execution_count": 16,
   "id": "f91bb7db",
   "metadata": {},
   "outputs": [
    {
     "name": "stdout",
     "output_type": "stream",
     "text": [
      "1 2 3 1 1 3\n",
      "4\n"
     ]
    }
   ],
   "source": [
    "nums=[int(i) for i in input().split()]\n",
    "goodPairs=0\n",
    "for i in range(len(nums)-1):\n",
    "    for j in range(i+1,len(nums)):\n",
    "        if nums[i]==nums[j]:\n",
    "            goodPairs+=1\n",
    "print(goodPairs)"
   ]
  },
  {
   "cell_type": "markdown",
   "id": "47234242",
   "metadata": {},
   "source": [
    "## 4. How Many Numbers Are Smaller Than the Current Number"
   ]
  },
  {
   "cell_type": "code",
   "execution_count": 17,
   "id": "a29b6ec6",
   "metadata": {},
   "outputs": [
    {
     "name": "stdout",
     "output_type": "stream",
     "text": [
      "6 5 4 8\n",
      "[2, 1, 0, 3]\n"
     ]
    }
   ],
   "source": [
    "l=[]\n",
    "nums=[int(i) for i in input().split()]\n",
    "for i in range(len(nums)):\n",
    "    count=0\n",
    "    for j in range(len(nums)):\n",
    "        if nums[i]>nums[j]:\n",
    "            count+=1\n",
    "    l.append(count)\n",
    "print(l)"
   ]
  },
  {
   "cell_type": "markdown",
   "id": "70b37616",
   "metadata": {},
   "source": [
    "## 5. Subtract the Product and Sum of Digits on an Integer"
   ]
  },
  {
   "cell_type": "code",
   "execution_count": 19,
   "id": "02030f97",
   "metadata": {},
   "outputs": [
    {
     "name": "stdout",
     "output_type": "stream",
     "text": [
      "234\n",
      "15\n"
     ]
    }
   ],
   "source": [
    "n=int(input())\n",
    "add=0\n",
    "prod=1\n",
    "while n>0:\n",
    "    rem=n%10\n",
    "    add+=rem\n",
    "    prod*=rem\n",
    "    n=int(n/10)\n",
    "print(prod-add)"
   ]
  },
  {
   "cell_type": "markdown",
   "id": "3762b257",
   "metadata": {},
   "source": [
    "## 6. XOR Operaion in an Array"
   ]
  },
  {
   "cell_type": "code",
   "execution_count": 22,
   "id": "3bc0b1e4",
   "metadata": {},
   "outputs": [
    {
     "name": "stdout",
     "output_type": "stream",
     "text": [
      "5\n",
      "0\n",
      "8\n"
     ]
    }
   ],
   "source": [
    "n=int(input())\n",
    "start=int(input())\n",
    "arr=[]\n",
    "for i in range(n):\n",
    "    s=start+(i*2)\n",
    "    arr.append(s)\n",
    "r=0\n",
    "for i in range(len(arr)):\n",
    "    r=r^arr[i]\n",
    "print(r)"
   ]
  }
 ],
 "metadata": {
  "kernelspec": {
   "display_name": "Python 3",
   "language": "python",
   "name": "python3"
  },
  "language_info": {
   "codemirror_mode": {
    "name": "ipython",
    "version": 3
   },
   "file_extension": ".py",
   "mimetype": "text/x-python",
   "name": "python",
   "nbconvert_exporter": "python",
   "pygments_lexer": "ipython3",
   "version": "3.8.8"
  }
 },
 "nbformat": 4,
 "nbformat_minor": 5
}
