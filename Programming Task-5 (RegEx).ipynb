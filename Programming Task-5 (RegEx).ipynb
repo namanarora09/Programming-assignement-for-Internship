{
 "cells": [
  {
   "cell_type": "markdown",
   "id": "aa074e0b",
   "metadata": {},
   "source": [
    "## 1. Detect Floating Point Number"
   ]
  },
  {
   "cell_type": "code",
   "execution_count": 1,
   "id": "5dfb62e0",
   "metadata": {},
   "outputs": [
    {
     "name": "stdout",
     "output_type": "stream",
     "text": [
      "4\n",
      "4.0O0\n",
      "-1.00\n",
      "+4.54\n",
      "SomeRandomStuff\n",
      "False\n",
      "True\n",
      "True\n",
      "False\n"
     ]
    }
   ],
   "source": [
    "def main():\n",
    "    l = []\n",
    "    integer = int(input())\n",
    "    for i in range(integer):\n",
    "        n = input()\n",
    "        if n == 0:\n",
    "            l.append('False')\n",
    "        else:\n",
    "            try:\n",
    "                if float(n) and n != 0:\n",
    "                    l.append('True')\n",
    "                else:\n",
    "                    l.append('False')\n",
    "            except:\n",
    "                l.append('False')\n",
    "    print('\\n'.join(l))\n",
    "\n",
    "\n",
    "if __name__ == '__main__':\n",
    "    main()"
   ]
  },
  {
   "cell_type": "markdown",
   "id": "76138ca0",
   "metadata": {},
   "source": [
    "## 2. Re.split()"
   ]
  },
  {
   "cell_type": "code",
   "execution_count": 2,
   "id": "a64ceca1",
   "metadata": {},
   "outputs": [
    {
     "name": "stdout",
     "output_type": "stream",
     "text": [
      "1000,000,000.000\n",
      "1000\n",
      "000\n",
      "000\n",
      "000\n"
     ]
    }
   ],
   "source": [
    "regex_pattern = r\"[,.]\"\n",
    "import re\n",
    "print(\"\\n\".join(re.split(regex_pattern, input())))"
   ]
  },
  {
   "cell_type": "markdown",
   "id": "376ddef2",
   "metadata": {},
   "source": [
    "## 3. Group(), Groups() & Groupdict()"
   ]
  },
  {
   "cell_type": "code",
   "execution_count": 3,
   "id": "c0d79adf",
   "metadata": {},
   "outputs": [
    {
     "name": "stdout",
     "output_type": "stream",
     "text": [
      "12345678910111213141516171820212223\n",
      "1\n"
     ]
    }
   ],
   "source": [
    "import re\n",
    "char = input()\n",
    "pattern = r\"([a-zA-Z0-9])\\1+\"\n",
    "match = re.search(pattern,char)\n",
    "if match:\n",
    "    print(match.group(1))\n",
    "else:\n",
    "    print(-1)"
   ]
  },
  {
   "cell_type": "markdown",
   "id": "c561bf39",
   "metadata": {},
   "source": [
    "## 4. Re.findall() & Re.finditer()"
   ]
  },
  {
   "cell_type": "code",
   "execution_count": 4,
   "id": "32a98586",
   "metadata": {},
   "outputs": [
    {
     "name": "stdout",
     "output_type": "stream",
     "text": [
      "rabcdeefgyYhFjkIoomnpOeorteeeeet\n",
      "ee\n",
      "Ioo\n",
      "Oeo\n",
      "eeeee\n"
     ]
    }
   ],
   "source": [
    "import re\n",
    "\n",
    "s = input()\n",
    "\n",
    "vowels = '[AEIOUaeiou]{2,}'\n",
    "consonant = '[QWRTYPSDFGHJKLZXCVBNMqwrtypsdfghjklzxcvbnm]'\n",
    "testpattern=re.compile(rf'(?<={consonant}){vowels}(?={consonant})')\n",
    "\n",
    "result = testpattern.findall(s)\n",
    "\n",
    "print(*result if len(result) > 0 else [-1], sep='\\n')"
   ]
  },
  {
   "cell_type": "markdown",
   "id": "9bc3d69f",
   "metadata": {},
   "source": [
    "## 5. Re.start() & Re.end()"
   ]
  },
  {
   "cell_type": "code",
   "execution_count": 5,
   "id": "8d4d9f5c",
   "metadata": {},
   "outputs": [
    {
     "name": "stdout",
     "output_type": "stream",
     "text": [
      "aaadaa\n",
      "aa\n",
      "(0, 1)\n",
      "(1, 2)\n",
      "(4, 5)\n"
     ]
    }
   ],
   "source": [
    "import re\n",
    "s,k = input(),input()\n",
    "patter = re.compile(k)\n",
    "m=patter.search(s)\n",
    "\n",
    "if not m:\n",
    "        print((-1,-1))  \n",
    "while m:\n",
    "    print((m.start(),m.end()-1))\n",
    "    m=patter.search(s,m.start()+1)"
   ]
  },
  {
   "cell_type": "markdown",
   "id": "580afdd6",
   "metadata": {},
   "source": [
    "## 6. Regex Substitution"
   ]
  },
  {
   "cell_type": "code",
   "execution_count": 6,
   "id": "ed26289a",
   "metadata": {},
   "outputs": [
    {
     "name": "stdout",
     "output_type": "stream",
     "text": [
      "11\n",
      "a = 1;\n",
      "a = 1;\n",
      "b = input();\n",
      "b = input();\n",
      "if a + b > 0 && a - b < 0:\n",
      "if a + b > 0 and a - b < 0:\n",
      "    start()\n",
      "    start()\n",
      "elif a*b > 10 || a/b < 1:\n",
      "elif a*b > 10 or a/b < 1:\n",
      "    stop()\n",
      "    stop()\n",
      "print set(list(a)) | set(list(b))\n",
      "print set(list(a)) | set(list(b))\n",
      "#Note do not change &&& or ||| or & or |\n",
      "#Note do not change &&& or ||| or & or |\n",
      "#Note do not change &&& or ||| or & or |\n",
      "#Note do not change &&& or ||| or & or |\n",
      "#Only change those '|| which have space on both sides.\n",
      "#Only change those '|| which have space on both sides.\n",
      "#Only change those '&&' which have space on both sides.\n",
      "#Only change those '&&' which have space on both sides.\n"
     ]
    }
   ],
   "source": [
    "import re\n",
    "\n",
    "repl = lambda x: x.group().replace('&&', 'and').replace('||', 'or')\n",
    "for _ in range(int(input())):\n",
    "    print(re.sub(r'(?<= )\\&\\& |(?<= )\\|\\| ', repl, input()))"
   ]
  },
  {
   "cell_type": "markdown",
   "id": "8f192300",
   "metadata": {},
   "source": [
    "## 7. Validating Roman Numerals"
   ]
  },
  {
   "cell_type": "code",
   "execution_count": 7,
   "id": "1fe20d23",
   "metadata": {},
   "outputs": [
    {
     "name": "stdout",
     "output_type": "stream",
     "text": [
      "CDXXI\n",
      "True\n"
     ]
    }
   ],
   "source": [
    "regex_pattern = r\"^(M{0,3})(CM|CD|D?C{0,3})(XC|XL|L?X{0,3})(IX|IV|V?I{0,3})$\"\n",
    "import re\n",
    "print(str(bool(re.match(regex_pattern, input()))))"
   ]
  },
  {
   "cell_type": "markdown",
   "id": "db569688",
   "metadata": {},
   "source": [
    "## 8. Validating phone numbers"
   ]
  },
  {
   "cell_type": "code",
   "execution_count": 8,
   "id": "476b7308",
   "metadata": {},
   "outputs": [
    {
     "name": "stdout",
     "output_type": "stream",
     "text": [
      "2\n",
      "9587456281\n",
      "YES\n",
      "1252478965\n",
      "NO\n"
     ]
    }
   ],
   "source": [
    "import re\n",
    "\n",
    "for _ in range(int(input())):\n",
    "    print('YES' if re.match(r'^[7-9]\\d{9}$', input()) else 'NO')"
   ]
  },
  {
   "cell_type": "markdown",
   "id": "482f93e2",
   "metadata": {},
   "source": [
    "## 9. Validating and Parsing Email Addresses"
   ]
  },
  {
   "cell_type": "code",
   "execution_count": 9,
   "id": "e5d00601",
   "metadata": {},
   "outputs": [
    {
     "name": "stdout",
     "output_type": "stream",
     "text": [
      "2\n",
      "DEXTER <dexter@hotmail.com>\n",
      "DEXTER <dexter@hotmail.com>\n",
      "VIRUS <virus!@variable.:p>\n"
     ]
    }
   ],
   "source": [
    "import email.utils\n",
    "import re\n",
    "\n",
    "for _ in range(int(input())):\n",
    "    parser = email.utils.parseaddr(input())\n",
    "    email_pattern = r\"^[a-z][\\w\\-.]*@[a-z]+\\.[a-z]{1,3}$\"\n",
    "    match = re.search(email_pattern, parser[1], re.I)\n",
    "    if match:\n",
    "        print(email.utils.formataddr(parser))"
   ]
  },
  {
   "cell_type": "markdown",
   "id": "3d56ec8c",
   "metadata": {},
   "source": [
    "## 10. Hex Color Code"
   ]
  },
  {
   "cell_type": "code",
   "execution_count": 10,
   "id": "2b46906c",
   "metadata": {},
   "outputs": [
    {
     "name": "stdout",
     "output_type": "stream",
     "text": [
      "11\n",
      "#BED\n",
      "{\n",
      "    color: #FfFdF8; background-color:#aef;\n",
      "    font-size: 123px;\n",
      "\n",
      "}\n",
      "#Cab\n",
      "{\n",
      "    background-color: #ABC;\n",
      "    border: 2px dashed #fff;\n",
      "}\n",
      "#FfFdF8\n",
      "#aef\n",
      "#ABC\n",
      "#fff\n"
     ]
    }
   ],
   "source": [
    "import re\n",
    "\n",
    "pattern = re.compile(r'#([0-9a-fA-F]{1,2}){3}')\n",
    "\n",
    "res = []\n",
    "for _ in range(int(input())):\n",
    "    s = input()\n",
    "    if s.endswith(';'):\n",
    "        res += [m.group(0) for m in re.finditer(pattern, s)]\n",
    "print(*res, sep='\\n')"
   ]
  },
  {
   "cell_type": "markdown",
   "id": "c49e4bea",
   "metadata": {},
   "source": [
    "## 11. HTML Parser - Part 1"
   ]
  },
  {
   "cell_type": "code",
   "execution_count": 11,
   "id": "868372ff",
   "metadata": {},
   "outputs": [
    {
     "name": "stdout",
     "output_type": "stream",
     "text": [
      "2\n",
      "<html><head><title>HTML Parser - I</title></head>\n",
      "<body data-modal-target class='1'><h1>HackerRank</h1><br /></body></html>\n",
      "Start : html\n",
      "Start : head\n",
      "Start : title\n",
      "End   : title\n",
      "End   : head\n",
      "Start : body\n",
      "-> data-modal-target > None\n",
      "-> class > 1\n",
      "Start : h1\n",
      "End   : h1\n",
      "Empty : br\n",
      "End   : body\n",
      "End   : html\n"
     ]
    }
   ],
   "source": [
    "from html.parser import HTMLParser\n",
    "\n",
    "def show(attrs):\n",
    "    for attr in attrs:\n",
    "            print(\"-> {0} > {1}\".format(attr[0], attr[1]))\n",
    "            \n",
    "class MyHTMLParser(HTMLParser):\n",
    "    def handle_starttag(self, tag, attrs):\n",
    "        print(f\"Start : {tag}\")\n",
    "        show(attrs)\n",
    "            \n",
    "    def handle_endtag(self, tag):\n",
    "        print(\"End   : \" + tag)\n",
    "\n",
    "    def handle_startendtag(self, tag, attrs):\n",
    "        print(\"Empty :\", tag)\n",
    "        show(attrs)\n",
    "        \n",
    "parser = MyHTMLParser()\n",
    "parser.feed(''.join([input() for _ in range(int(input()))]))"
   ]
  },
  {
   "cell_type": "markdown",
   "id": "0cea5ef9",
   "metadata": {},
   "source": [
    "## 12. HTML Parser - Part 2"
   ]
  },
  {
   "cell_type": "code",
   "execution_count": 12,
   "id": "ee2968a9",
   "metadata": {},
   "outputs": [
    {
     "name": "stdout",
     "output_type": "stream",
     "text": [
      "4\n",
      "<!--[if IE 9]>IE9-specific content\n",
      "<![endif]-->\n",
      "<div> Welcome to HackerRank</div>\n",
      "<!--[if IE 9]>IE9-specific content<![endif]-->\n",
      ">>> Multi-line Comment\n",
      "[if IE 9]>IE9-specific content\n",
      "<![endif]\n",
      ">>> Data\n",
      " Welcome to HackerRank\n",
      ">>> Single-line Comment\n",
      "[if IE 9]>IE9-specific content<![endif]\n"
     ]
    }
   ],
   "source": [
    "from html.parser import HTMLParser\n",
    "\n",
    "class MyHTMLParser(HTMLParser):\n",
    "    def handle_comment(self, data):\n",
    "        data = str(data).split('\\n')\n",
    "        if len(data)>1:\n",
    "            print('>>> Multi-line Comment', *data, sep='\\n')\n",
    "        else:\n",
    "            print('>>> Single-line Comment', data[0], sep='\\n')            \n",
    "    def handle_data(self, data):\n",
    "        data = str(data).replace('\\n', '')\n",
    "        if len(data)>0:\n",
    "            print('>>> Data', data, sep='\\n')\n",
    "\n",
    "html = \"\"       \n",
    "for _ in range(int(input())):\n",
    "    html += input().rstrip()\n",
    "    html += '\\n'\n",
    "    \n",
    "parser = MyHTMLParser()\n",
    "parser.feed(html)\n",
    "parser.close()"
   ]
  },
  {
   "cell_type": "markdown",
   "id": "f91a5f55",
   "metadata": {},
   "source": [
    "## 13. Detect HTML Tags, Attributes and Attribute Values"
   ]
  },
  {
   "cell_type": "code",
   "execution_count": 13,
   "id": "e7c64255",
   "metadata": {},
   "outputs": [
    {
     "name": "stdout",
     "output_type": "stream",
     "text": [
      "9\n",
      "<head>\n",
      "<title>HTML</title>\n",
      "</head>\n",
      "<object type=\"application/x-flash\"\n",
      "  data=\"your-file.swf\"\n",
      "  width=\"0\" height=\"0\">\n",
      "  <!-- <param name=\"movie\" value=\"your-file.swf\" /> -->\n",
      "  <param name=\"quality\" value=\"high\"/>\n",
      "</object>\n",
      "head\n",
      "title\n",
      "object\n",
      "-> type > application/x-flash\n",
      "-> data > your-file.swf\n",
      "-> width > 0\n",
      "-> height > 0\n",
      "param\n",
      "-> name > quality\n",
      "-> value > high\n"
     ]
    }
   ],
   "source": [
    "from html.parser import HTMLParser\n",
    "\n",
    "class MyHTMLParser(HTMLParser):\n",
    "    def handle_starttag(self, tag, attrs):\n",
    "        print(tag, *('-> {0} > {1}'.format(*attr) for attr in attrs), sep='\\n')\n",
    "\n",
    "MyHTMLParser().feed(''.join([input() for _ in range(int(input()))]))"
   ]
  },
  {
   "cell_type": "markdown",
   "id": "d9691eaa",
   "metadata": {},
   "source": [
    "## 14. Validating UID"
   ]
  },
  {
   "cell_type": "code",
   "execution_count": 14,
   "id": "a8573fd4",
   "metadata": {},
   "outputs": [
    {
     "name": "stdout",
     "output_type": "stream",
     "text": [
      "2\n",
      "B1CD102354\n",
      "Invalid\n",
      "B1CDEF2354\n",
      "Valid\n"
     ]
    }
   ],
   "source": [
    "import re\n",
    "\n",
    "def is_valid_uid(uid):\n",
    "    return all([\n",
    "        re.search(r'[A-Z].*[A-Z]', uid),\n",
    "        re.search(r'\\d.*\\d.*\\d', uid),\n",
    "        not re.search(r'\\W', uid),\n",
    "        len(set(uid)) == 10,\n",
    "        len(uid) == 10\n",
    "    ])\n",
    "\n",
    "t = int(input().strip())\n",
    "\n",
    "for i in range(t):\n",
    "    uid = input().strip()\n",
    "    if is_valid_uid(uid):\n",
    "        print(\"Valid\")\n",
    "    else:\n",
    "        print(\"Invalid\")"
   ]
  },
  {
   "cell_type": "markdown",
   "id": "388e74c8",
   "metadata": {},
   "source": [
    "## 15. Validating Credit Card Numbers"
   ]
  },
  {
   "cell_type": "code",
   "execution_count": 15,
   "id": "ace41b23",
   "metadata": {},
   "outputs": [
    {
     "name": "stdout",
     "output_type": "stream",
     "text": [
      "6\n",
      "4123456789123456\n",
      "Valid\n",
      "5123-4567-8912-3456\n",
      "Valid\n",
      "61234-567-8912-3456\n",
      "Invalid\n",
      "4123356789123456\n",
      "Valid\n",
      "5133-3367-8912-3456\n",
      "Invalid\n",
      "5123 - 3567 - 8912 - 3456\n",
      "Invalid\n"
     ]
    }
   ],
   "source": [
    "import re\n",
    "\n",
    "for i in range(int(input())):\n",
    "    \n",
    "    text = input()\n",
    "    pattern = re.compile(r\"^([456][\\d+]{3})-([\\d+]{4})-([\\d+]{4})-([\\d+]{4})$|^([456][\\d+]{15})$\")\n",
    "\n",
    "    if pattern.match(text):\n",
    "        text = ''.join([i for i in text if i != '-'])\n",
    "        if all([False if i*4 in text  else True for i in set(text)]):\n",
    "            print(\"Valid\")\n",
    "        else:\n",
    "            print(\"Invalid\")\n",
    "    else:\n",
    "        print(\"Invalid\")"
   ]
  },
  {
   "cell_type": "markdown",
   "id": "cfa2fba8",
   "metadata": {},
   "source": [
    "## 16. Validating Postal Codes"
   ]
  },
  {
   "cell_type": "code",
   "execution_count": 16,
   "id": "7f149c7b",
   "metadata": {},
   "outputs": [
    {
     "name": "stdout",
     "output_type": "stream",
     "text": [
      "110000\n",
      "False\n"
     ]
    }
   ],
   "source": [
    "regex_integer_in_range = r\"^[1-9]\\d{5}$\"\n",
    "regex_alternating_repetitive_digit_pair = r\"(\\d)(?=\\d\\1)\"\n",
    "import re\n",
    "P = input()\n",
    "\n",
    "print (bool(re.match(regex_integer_in_range, P)) \n",
    "and len(re.findall(regex_alternating_repetitive_digit_pair, P)) < 2)"
   ]
  },
  {
   "cell_type": "markdown",
   "id": "657fc93c",
   "metadata": {},
   "source": [
    "## 17. Matrix Script"
   ]
  },
  {
   "cell_type": "code",
   "execution_count": 17,
   "id": "f99a3957",
   "metadata": {},
   "outputs": [
    {
     "name": "stdout",
     "output_type": "stream",
     "text": [
      "7 3\n",
      "Tsi\n",
      "h%x\n",
      "i #\n",
      "sM\n",
      "$a\n",
      "#t%\n",
      "ir!\n",
      "This is Matr\n"
     ]
    }
   ],
   "source": [
    "import re\n",
    "\n",
    "n, m = input().split()\n",
    "n, m = int(n), int(m)\n",
    "\n",
    "line_list = []\n",
    "for i in range(n):\n",
    "    line = input()\n",
    "    line_list.append(line)\n",
    "\n",
    "transposed_tuple_list = list(zip(*line_list))\n",
    "\n",
    "joined_string = ''\n",
    "for i in transposed_tuple_list:\n",
    "    joined_string = joined_string + ''.join(i)\n",
    "    \n",
    "print(re.sub(r'(?<=[a-zA-Z0-9])[!@#$%&\\s]+(?=[a-zA-Z0-9])', ' ', joined_string))"
   ]
  },
  {
   "cell_type": "code",
   "execution_count": null,
   "id": "b6b6e54d",
   "metadata": {},
   "outputs": [],
   "source": []
  }
 ],
 "metadata": {
  "kernelspec": {
   "display_name": "Python 3",
   "language": "python",
   "name": "python3"
  },
  "language_info": {
   "codemirror_mode": {
    "name": "ipython",
    "version": 3
   },
   "file_extension": ".py",
   "mimetype": "text/x-python",
   "name": "python",
   "nbconvert_exporter": "python",
   "pygments_lexer": "ipython3",
   "version": "3.8.8"
  }
 },
 "nbformat": 4,
 "nbformat_minor": 5
}
